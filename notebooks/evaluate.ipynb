{
 "cells": [
  {
   "cell_type": "code",
   "execution_count": 2,
   "id": "eac25b9d",
   "metadata": {},
   "outputs": [
    {
     "name": "stdout",
     "output_type": "stream",
     "text": [
      "100%|██████████████████████████████████████████| 99/99 [00:00<00:00, 270.19it/s]\n",
      "100%|██████████████████████████████████| 49500/49500 [00:03<00:00, 16472.35ex/s]\n",
      "The following columns in the evaluation set  don't have a corresponding argument in `T5ForConditionalGeneration.forward` and have been ignored: word, language, variant, pron.\n",
      "***** Running Evaluation *****\n",
      "  Num examples = 49500\n",
      "  Batch size = 512\n",
      "100%|███████████████████████████████████████████| 97/97 [21:50<00:00, 13.51s/it]\n",
      "{'eval_loss': 0.04930555447936058, 'eval_cer': 0.08785488441298425, 'eval_wer': 0.25903030303030306, 'eval_runtime': 1314.8362, 'eval_samples_per_second': 37.647, 'eval_steps_per_second': 0.074}\n"
     ]
    }
   ],
   "source": [
    " !python src/train.py --checkpoint /scratch/lingjzhu_root/lingjzhu1/lingjzhu/g2p/byt5_small_finetuned_from_pretrained/checkpoint-135000  --evaluate --model byt5 --output_dir /scratch/lingjzhu_root/lingjzhu1/lingjzhu/g2p/byt5_small_finetuned_from_pretrained"
   ]
  },
  {
   "cell_type": "code",
   "execution_count": 2,
   "id": "5bbc5032",
   "metadata": {},
   "outputs": [
    {
     "name": "stdout",
     "output_type": "stream",
     "text": [
      "100%|██████████████████████████████████████████| 99/99 [00:00<00:00, 271.49it/s]\n",
      "100%|██████████████████████████████████| 49500/49500 [00:02<00:00, 17083.12ex/s]\n",
      "The following columns in the evaluation set  don't have a corresponding argument in `SwitchT5ForConditionalGeneration.forward` and have been ignored: pron, language, variant, word.\n",
      "***** Running Evaluation *****\n",
      "  Num examples = 49500\n",
      "  Batch size = 512\n",
      "100%|███████████████████████████████████████████| 97/97 [18:44<00:00, 11.59s/it]\n",
      "{'eval_loss': 0.12110736221075058, 'eval_cer': 0.09591588897519775, 'eval_wer': 0.28224242424242424, 'eval_runtime': 1127.8338, 'eval_samples_per_second': 43.889, 'eval_steps_per_second': 0.086}\n"
     ]
    }
   ],
   "source": [
    "!python src/train.py --checkpoint /scratch/lingjzhu_root/lingjzhu1/lingjzhu/g2p/switch_64_experts_6_layers/checkpoint-135000  --evaluate --output_dir /scratch/lingjzhu_root/lingjzhu1/lingjzhu/g2p/switch_64_experts_6_layers "
   ]
  },
  {
   "cell_type": "code",
   "execution_count": 1,
   "id": "c68846ab",
   "metadata": {
    "tags": []
   },
   "outputs": [
    {
     "name": "stdout",
     "output_type": "stream",
     "text": [
      "100%|███████████████████████████████████████████| 99/99 [00:01<00:00, 64.59it/s]\n",
      "100%|██████████████████████████████████| 49500/49500 [00:02<00:00, 16532.50ex/s]\n",
      "The following columns in the evaluation set  don't have a corresponding argument in `T5ForConditionalGeneration.forward` and have been ignored: language, word, variant, pron.\n",
      "***** Running Evaluation *****\n",
      "  Num examples = 49500\n",
      "  Batch size = 128\n",
      "100%|█████████████████████████████████████████| 387/387 [08:04<00:00,  1.25s/it]\n",
      "{'eval_loss': 0.36711549758911133, 'eval_cer': 0.11856813964074372, 'eval_wer': 0.37054545454545457, 'eval_runtime': 485.5238, 'eval_samples_per_second': 101.952, 'eval_steps_per_second': 0.797}\n"
     ]
    }
   ],
   "source": [
    " !python src/train.py --checkpoint /scratch/lingjzhu_root/lingjzhu1/lingjzhu/g2p/mt5_small_finetuned_from_pretrained/checkpoint-135000  --evaluate --model byt5 --output_dir /scratch/lingjzhu_root/lingjzhu1/lingjzhu/g2p/mt5_small_finetuned_from_pretrained --eval_batch_size 128"
   ]
  },
  {
   "cell_type": "code",
   "execution_count": 1,
   "id": "071766a5",
   "metadata": {},
   "outputs": [
    {
     "name": "stdout",
     "output_type": "stream",
     "text": [
      "100%|██████████████████████████████████████████| 99/99 [00:00<00:00, 267.08it/s]\n",
      "100%|██████████████████████████████████| 49500/49500 [00:02<00:00, 16925.59ex/s]\n",
      "The following columns in the evaluation set  don't have a corresponding argument in `SwitchT5ForConditionalGeneration.forward` and have been ignored: variant, word, language, pron.\n",
      "***** Running Evaluation *****\n",
      "  Num examples = 49500\n",
      "  Batch size = 512\n",
      "100%|███████████████████████████████████████████| 97/97 [19:03<00:00, 11.79s/it]\n",
      "{'eval_loss': 0.15212132036685944, 'eval_cer': 0.09157686290384341, 'eval_wer': 0.2682020202020202, 'eval_runtime': 1147.5339, 'eval_samples_per_second': 43.136, 'eval_steps_per_second': 0.085}\n"
     ]
    }
   ],
   "source": [
    " !python src/train.py --checkpoint /scratch/lingjzhu_root/lingjzhu1/lingjzhu/g2p/switch_32_experts_12_layers/checkpoint-135000  --evaluate --output_dir /scratch/lingjzhu_root/lingjzhu1/lingjzhu/g2p/switch_32_experts_12_layers"
   ]
  },
  {
   "cell_type": "code",
   "execution_count": 1,
   "id": "64baec4e",
   "metadata": {},
   "outputs": [
    {
     "name": "stdout",
     "output_type": "stream",
     "text": [
      "100%|██████████████████████████████████████████| 99/99 [00:00<00:00, 272.08it/s]\n",
      "100%|██████████████████████████████████| 49500/49500 [00:02<00:00, 16888.75ex/s]\n",
      "The following columns in the evaluation set  don't have a corresponding argument in `SwitchT5ForConditionalGeneration.forward` and have been ignored: pron, language, word, variant.\n",
      "***** Running Evaluation *****\n",
      "  Num examples = 49500\n",
      "  Batch size = 512\n",
      "100%|███████████████████████████████████████████| 97/97 [18:55<00:00, 11.70s/it]\n",
      "{'eval_loss': 0.1494792103767395, 'eval_cer': 0.09209106922092272, 'eval_wer': 0.27090909090909093, 'eval_runtime': 1138.69, 'eval_samples_per_second': 43.471, 'eval_steps_per_second': 0.085}\n"
     ]
    }
   ],
   "source": [
    " !python src/train.py --checkpoint /scratch/lingjzhu_root/lingjzhu1/lingjzhu/g2p/switch_8_experts_12_layers/checkpoint-135000  --evaluate --output_dir /scratch/lingjzhu_root/lingjzhu1/lingjzhu/g2p/switch_8_experts_12_layers"
   ]
  },
  {
   "cell_type": "code",
   "execution_count": 1,
   "id": "0b7e46c8",
   "metadata": {},
   "outputs": [
    {
     "name": "stdout",
     "output_type": "stream",
     "text": [
      "100%|██████████████████████████████████████████| 99/99 [00:00<00:00, 263.07it/s]\n",
      "100%|██████████████████████████████████| 49500/49500 [00:02<00:00, 16808.65ex/s]\n",
      "The following columns in the evaluation set  don't have a corresponding argument in `SwitchT5ForConditionalGeneration.forward` and have been ignored: language, variant, pron, word.\n",
      "***** Running Evaluation *****\n",
      "  Num examples = 49500\n",
      "  Batch size = 512\n",
      "100%|███████████████████████████████████████████| 97/97 [18:53<00:00, 11.68s/it]\n",
      "{'eval_loss': 0.19665181636810303, 'eval_cer': 0.09080445937223067, 'eval_wer': 0.2668080808080808, 'eval_runtime': 1137.2165, 'eval_samples_per_second': 43.527, 'eval_steps_per_second': 0.085}\n"
     ]
    }
   ],
   "source": [
    " !python src/train.py --checkpoint /scratch/lingjzhu_root/lingjzhu1/lingjzhu/g2p/switch_8_experts_16_layers/checkpoint-135000  --evaluate --output_dir /scratch/lingjzhu_root/lingjzhu1/lingjzhu/g2p/switch_8_experts_16_layers"
   ]
  },
  {
   "cell_type": "code",
   "execution_count": 2,
   "id": "01ae6178",
   "metadata": {},
   "outputs": [
    {
     "name": "stdout",
     "output_type": "stream",
     "text": [
      "100%|██████████████████████████████████████████| 99/99 [00:00<00:00, 249.56it/s]\n",
      "100%|██████████████████████████████████| 49500/49500 [00:02<00:00, 16575.57ex/s]\n",
      "The following columns in the evaluation set  don't have a corresponding argument in `T5ForConditionalGeneration.forward` and have been ignored: variant, language, word, pron.\n",
      "***** Running Evaluation *****\n",
      "  Num examples = 49500\n",
      "  Batch size = 512\n",
      "100%|███████████████████████████████████████████| 97/97 [18:55<00:00, 11.70s/it]\n",
      "{'eval_loss': 0.061607252806425095, 'eval_cer': 0.09682614356202751, 'eval_wer': 0.28274747474747475, 'eval_runtime': 1138.767, 'eval_samples_per_second': 43.468, 'eval_steps_per_second': 0.085}\n"
     ]
    }
   ],
   "source": [
    " !python src/train.py --checkpoint /scratch/lingjzhu_root/lingjzhu1/lingjzhu/g2p/byt5_12_layers_baseline/checkpoint-135000  --evaluate --model byt5 --output_dir /scratch/lingjzhu_root/lingjzhu1/lingjzhu/g2p/byt5_12_layers_baseline"
   ]
  },
  {
   "cell_type": "code",
   "execution_count": 1,
   "id": "3029bcc3",
   "metadata": {},
   "outputs": [
    {
     "name": "stdout",
     "output_type": "stream",
     "text": [
      "100%|██████████████████████████████████████████| 99/99 [00:00<00:00, 270.05it/s]\n",
      "100%|██████████████████████████████████| 49500/49500 [00:02<00:00, 17002.42ex/s]\n",
      "The following columns in the evaluation set  don't have a corresponding argument in `T5ForConditionalGeneration.forward` and have been ignored: pron, language, word, variant.\n",
      "***** Running Evaluation *****\n",
      "  Num examples = 49500\n",
      "  Batch size = 512\n",
      "100%|███████████████████████████████████████████| 97/97 [18:42<00:00, 11.58s/it]\n",
      "{'eval_loss': 0.0798019990324974, 'eval_cer': 0.10596369922212619, 'eval_wer': 0.3108484848484849, 'eval_runtime': 1126.3509, 'eval_samples_per_second': 43.947, 'eval_steps_per_second': 0.086}\n"
     ]
    }
   ],
   "source": [
    " !python src/train.py --checkpoint /scratch/lingjzhu_root/lingjzhu1/lingjzhu/g2p/byt5_8_layers_baseline/checkpoint-135000  --evaluate --model byt5 --output_dir /scratch/lingjzhu_root/lingjzhu1/lingjzhu/g2p/byt5_8_layers_baseline"
   ]
  },
  {
   "cell_type": "code",
   "execution_count": 1,
   "id": "c969c264-3bf6-49b8-b48c-15c214dfb57b",
   "metadata": {},
   "outputs": [
    {
     "name": "stdout",
     "output_type": "stream",
     "text": [
      "100%|██████████████████████████████████████████| 99/99 [00:00<00:00, 277.01it/s]\n",
      "100%|██████████████████████████████████| 49500/49500 [00:02<00:00, 16793.96ex/s]\n",
      "The following columns in the evaluation set  don't have a corresponding argument in `SwitchT5ForConditionalGeneration.forward` and have been ignored: language, pron, variant, word.\n",
      "***** Running Evaluation *****\n",
      "  Num examples = 49500\n",
      "  Batch size = 512\n",
      "100%|███████████████████████████████████████████| 97/97 [18:45<00:00, 11.60s/it]\n",
      "{'eval_loss': 0.14182890951633453, 'eval_cer': 0.0925921468660766, 'eval_wer': 0.27260606060606063, 'eval_runtime': 1129.106, 'eval_samples_per_second': 43.84, 'eval_steps_per_second': 0.086}\n"
     ]
    }
   ],
   "source": [
    "!python src/train.py --checkpoint /scratch/lingjzhu_root/lingjzhu1/lingjzhu/g2p/switch_64_experts/checkpoint-135000  --evaluate --output_dir /scratch/lingjzhu_root/lingjzhu1/lingjzhu/g2p/switch_64_experts"
   ]
  },
  {
   "cell_type": "code",
   "execution_count": 2,
   "id": "f079048c-3056-42da-b21c-602867a73cb5",
   "metadata": {},
   "outputs": [
    {
     "name": "stdout",
     "output_type": "stream",
     "text": [
      "100%|██████████████████████████████████████████| 99/99 [00:00<00:00, 271.39it/s]\n",
      "100%|██████████████████████████████████| 49500/49500 [00:02<00:00, 16672.18ex/s]\n",
      "The following columns in the evaluation set  don't have a corresponding argument in `SwitchT5ForConditionalGeneration.forward` and have been ignored: language, word, variant, pron.\n",
      "***** Running Evaluation *****\n",
      "  Num examples = 49500\n",
      "  Batch size = 512\n",
      "100%|███████████████████████████████████████████| 97/97 [18:26<00:00, 11.40s/it]\n",
      "{'eval_loss': 0.1385861486196518, 'eval_cer': 0.09778672472457141, 'eval_wer': 0.2883232323232323, 'eval_runtime': 1109.5472, 'eval_samples_per_second': 44.613, 'eval_steps_per_second': 0.087}\n"
     ]
    }
   ],
   "source": [
    "!python src/train.py --checkpoint /scratch/lingjzhu_root/lingjzhu1/lingjzhu/g2p/switch_8_experts/checkpoint-120000  --evaluate --output_dir /scratch/lingjzhu_root/lingjzhu1/lingjzhu/g2p/switch_8_experts"
   ]
  },
  {
   "cell_type": "code",
   "execution_count": 3,
   "id": "69a57816-f39a-4870-a7a3-351d98bb86b4",
   "metadata": {},
   "outputs": [
    {
     "name": "stdout",
     "output_type": "stream",
     "text": [
      "100%|██████████████████████████████████████████| 99/99 [00:00<00:00, 268.23it/s]\n",
      "100%|██████████████████████████████████| 49500/49500 [00:02<00:00, 16510.47ex/s]\n",
      "The following columns in the evaluation set  don't have a corresponding argument in `T5ForConditionalGeneration.forward` and have been ignored: language, variant, word, pron.\n",
      "***** Running Evaluation *****\n",
      "  Num examples = 49500\n",
      "  Batch size = 512\n",
      "100%|███████████████████████████████████████████| 97/97 [20:59<00:00, 12.98s/it]\n",
      "{'eval_loss': 0.0590859092772007, 'eval_cer': 0.09453300219905254, 'eval_wer': 0.276989898989899, 'eval_runtime': 1264.2777, 'eval_samples_per_second': 39.153, 'eval_steps_per_second': 0.077}\n"
     ]
    }
   ],
   "source": [
    " !python src/train.py --checkpoint /scratch/lingjzhu_root/lingjzhu1/lingjzhu/g2p/byt5_16_layers_baseline/checkpoint-135000  --evaluate --model byt5 --output_dir /scratch/lingjzhu_root/lingjzhu1/lingjzhu/g2p/byt5_16_layers_baseline"
   ]
  },
  {
   "cell_type": "code",
   "execution_count": 1,
   "id": "ddc4b372-6464-4a66-93e0-f00e63a495d5",
   "metadata": {},
   "outputs": [
    {
     "name": "stdout",
     "output_type": "stream",
     "text": [
      "100%|██████████████████████████████████████████| 99/99 [00:00<00:00, 267.90it/s]\n",
      "100%|██████████████████████████████████| 49500/49500 [00:02<00:00, 16801.75ex/s]\n",
      "The following columns in the evaluation set  don't have a corresponding argument in `SwitchT5ForConditionalGeneration.forward` and have been ignored: variant, language, word, pron.\n",
      "***** Running Evaluation *****\n",
      "  Num examples = 49500\n",
      "  Batch size = 512\n",
      "100%|███████████████████████████████████████████| 97/97 [20:16<00:00, 12.54s/it]\n",
      "{'eval_loss': 0.2060050368309021, 'eval_cer': 0.0902027285756485, 'eval_wer': 0.26616161616161615, 'eval_runtime': 1220.3721, 'eval_samples_per_second': 40.561, 'eval_steps_per_second': 0.079}\n"
     ]
    }
   ],
   "source": [
    " !python src/train.py --checkpoint /scratch/lingjzhu_root/lingjzhu1/lingjzhu/g2p/switch_32_experts_16_layers/checkpoint-135000  --evaluate --output_dir /scratch/lingjzhu_root/lingjzhu1/lingjzhu/g2p/switch_32_experts_16_layers"
   ]
  },
  {
   "cell_type": "code",
   "execution_count": 2,
   "id": "7251bafb-5540-41af-9e03-0ddfec5e3d93",
   "metadata": {},
   "outputs": [
    {
     "name": "stdout",
     "output_type": "stream",
     "text": [
      "100%|██████████████████████████████████████████| 99/99 [00:00<00:00, 241.38it/s]\n",
      "100%|██████████████████████████████████| 49500/49500 [00:03<00:00, 16484.90ex/s]\n",
      "The following columns in the evaluation set  don't have a corresponding argument in `T5ForConditionalGeneration.forward` and have been ignored: pron, variant, language, word.\n",
      "***** Running Evaluation *****\n",
      "  Num examples = 49500\n",
      "  Batch size = 128\n",
      "100%|█████████████████████████████████████████| 387/387 [08:08<00:00,  1.26s/it]\n",
      "{'eval_loss': 0.5394696593284607, 'eval_cer': 0.17087651878567175, 'eval_wer': 0.485010101010101, 'eval_runtime': 489.2703, 'eval_samples_per_second': 101.171, 'eval_steps_per_second': 0.791}\n"
     ]
    }
   ],
   "source": [
    " !python src/train.py --checkpoint /scratch/lingjzhu_root/lingjzhu1/lingjzhu/g2p/mt5_12_layers_baseline/checkpoint-135000  --evaluate --model byt5 --output_dir /scratch/lingjzhu_root/lingjzhu1/lingjzhu/g2p/byt5_8_layers_baseline --eval_batch_size 128"
   ]
  },
  {
   "cell_type": "code",
   "execution_count": 2,
   "id": "e964709b-5dd0-47b8-8acb-6373fe9f06c1",
   "metadata": {},
   "outputs": [
    {
     "name": "stdout",
     "output_type": "stream",
     "text": [
      "100%|██████████████████████████████████████████| 99/99 [00:00<00:00, 235.97it/s]\n",
      "100%|██████████████████████████████████| 49500/49500 [00:03<00:00, 14259.47ex/s]\n",
      "The following columns in the evaluation set  don't have a corresponding argument in `T5ForConditionalGeneration.forward` and have been ignored: word, variant, language, pron.\n",
      "***** Running Evaluation *****\n",
      "  Num examples = 49500\n",
      "  Batch size = 128\n",
      "100%|█████████████████████████████████████████| 387/387 [08:21<00:00,  1.29s/it]\n",
      "{'eval_loss': 0.9589162468910217, 'eval_cer': 0.28934398963549146, 'eval_wer': 0.7076363636363636, 'eval_runtime': 502.3394, 'eval_samples_per_second': 98.539, 'eval_steps_per_second': 0.77}\n"
     ]
    }
   ],
   "source": [
    " !python src/train.py --checkpoint /scratch/lingjzhu_root/lingjzhu1/lingjzhu/g2p/mt5_8_layers_baseline/checkpoint-245000  --evaluate --model byt5 --output_dir /scratch/lingjzhu_root/lingjzhu1/lingjzhu/g2p/byt5_8_layers_baseline --eval_batch_size 128"
   ]
  }
 ],
 "metadata": {
  "kernelspec": {
   "display_name": "Python 3",
   "language": "python",
   "name": "python3"
  },
  "language_info": {
   "codemirror_mode": {
    "name": "ipython",
    "version": 3
   },
   "file_extension": ".py",
   "mimetype": "text/x-python",
   "name": "python",
   "nbconvert_exporter": "python",
   "pygments_lexer": "ipython3",
   "version": "3.8.8"
  }
 },
 "nbformat": 4,
 "nbformat_minor": 5
}
