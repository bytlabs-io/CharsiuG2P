{
 "cells": [
  {
   "cell_type": "code",
   "execution_count": null,
   "id": "34fd2b32",
   "metadata": {
    "scrolled": true
   },
   "outputs": [],
   "source": [
    "!python src/train.py --output_dir /scratch/lingjzhu_root/lingjzhu1/lingjzhu/g2p/byt5_small_finetuned_from_pretrained --pretrained_model True --train --train_batch_size 64 --resume_from_checkpoint --gradient_accumulation 8 --eval_batch_size 128 "
   ]
  },
  {
   "cell_type": "code",
   "execution_count": null,
   "id": "409f0a05",
   "metadata": {
    "scrolled": true,
    "tags": []
   },
   "outputs": [],
   "source": [
    "!python src/train.py --output_dir /scratch/lingjzhu_root/lingjzhu1/lingjzhu/g2p/mt5_small_finetuned_from_pretrained --pretrained_model True --model_name google/mt5-small --model byt5 --train_batch_size 64 --gradient_accumulation 8 --eval_batch_size 128 --resume_from_checkpoint --train"
   ]
  }
 ],
 "metadata": {
  "kernelspec": {
   "display_name": "Python 3",
   "language": "python",
   "name": "python3"
  },
  "language_info": {
   "codemirror_mode": {
    "name": "ipython",
    "version": 3
   },
   "file_extension": ".py",
   "mimetype": "text/x-python",
   "name": "python",
   "nbconvert_exporter": "python",
   "pygments_lexer": "ipython3",
   "version": "3.8.8"
  }
 },
 "nbformat": 4,
 "nbformat_minor": 5
}
