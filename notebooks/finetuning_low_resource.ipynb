{
 "cells": [
  {
   "cell_type": "code",
   "execution_count": null,
   "id": "34fd2b32",
   "metadata": {
    "tags": []
   },
   "outputs": [],
   "source": [
    "!python src/train.py --output_dir /scratch/lingjzhu_root/lingjzhu1/lingjzhu/g2p/low_resource/byt5_small_alb --language alb --pretrained_model True --train --train_batch_size 32  --gradient_accumulation 1 --eval_batch_size 64 --train_data data/low_resource/train/alb.tsv --dev_data data/low_resource/dev/alb.tsv --model_name /scratch/lingjzhu_root/lingjzhu1/lingjzhu/g2p/byt5_small_finetuned_from_pretrained/checkpoint-135000 --learning_rate 1e-4 --save_steps 100 --logging_steps 50 --eval_steps 100 --epochs 50"
   ]
  },
  {
   "cell_type": "code",
   "execution_count": null,
   "id": "0ab4e355-63ac-4337-a262-a39427328eb7",
   "metadata": {},
   "outputs": [],
   "source": [
    "!python src/train.py --output_dir /scratch/lingjzhu_root/lingjzhu1/lingjzhu/g2p/low_resource/byt5_small_hau --language hau --pretrained_model True --train --train_batch_size 32  --gradient_accumulation 1 --eval_batch_size 64 --train_data data/low_resource/train/hau.tsv --dev_data data/low_resource/dev/hau.tsv --model_name /scratch/lingjzhu_root/lingjzhu1/lingjzhu/g2p/byt5_small_finetuned_from_pretrained/checkpoint-135000 --learning_rate 1e-4 --save_steps 50 --logging_steps 50 --eval_steps 50 --epochs 30"
   ]
  },
  {
   "cell_type": "code",
   "execution_count": null,
   "id": "dbd54842-07bb-4e3d-b2f7-3535a3db2cd4",
   "metadata": {},
   "outputs": [],
   "source": [
    "!python src/train.py --output_dir /scratch/lingjzhu_root/lingjzhu1/lingjzhu/g2p/low_resource/byt5_small_heb --language heb --pretrained_model True --train --train_batch_size 32  --gradient_accumulation 1 --eval_batch_size 64 --train_data data/low_resource/train/heb.tsv --dev_data data/low_resource/dev/heb.tsv --model_name /scratch/lingjzhu_root/lingjzhu1/lingjzhu/g2p/byt5_small_finetuned_from_pretrained/checkpoint-135000 --learning_rate 1e-4 --save_steps 100 --logging_steps 50 --eval_steps 100 --epochs 20"
   ]
  },
  {
   "cell_type": "code",
   "execution_count": null,
   "id": "33a04297-49a0-4d99-8a31-b2b73c4ef5e9",
   "metadata": {},
   "outputs": [],
   "source": [
    "!python src/train.py --output_dir /scratch/lingjzhu_root/lingjzhu1/lingjzhu/g2p/low_resource/byt5_small_dsb --language dsb --pretrained_model True --train --train_batch_size 32  --gradient_accumulation 1 --eval_batch_size 64 --train_data data/low_resource/train/dsb.tsv --dev_data data/low_resource/dev/dsb.tsv --model_name /scratch/lingjzhu_root/lingjzhu1/lingjzhu/g2p/byt5_small_finetuned_from_pretrained/checkpoint-135000 --learning_rate 1e-4 --save_steps 100 --logging_steps 50 --eval_steps 100 --epochs 50"
   ]
  },
  {
   "cell_type": "code",
   "execution_count": null,
   "id": "409f0a05",
   "metadata": {},
   "outputs": [],
   "source": [
    " !python src/train.py --checkpoint /scratch/lingjzhu_root/lingjzhu1/lingjzhu/g2p/low_resource/byt5_small_tib/checkpoint-400 --language tib --evaluate --model byt5 --test_data data/low_resource/test/tib.tsv --output_dir /scratch/lingjzhu_root/lingjzhu1/lingjzhu/g2p/low_resource/byt5_small_tib/"
   ]
  },
  {
   "cell_type": "code",
   "execution_count": null,
   "id": "3fbc0071-4866-4b2a-a38c-21c3fb4270d5",
   "metadata": {},
   "outputs": [],
   "source": [
    " !python src/train.py --checkpoint /scratch/lingjzhu_root/lingjzhu1/lingjzhu/g2p/low_resource/byt5_small_alb/checkpoint-400 --language alb --evaluate --model byt5 --test_data data/low_resource/test/alb.tsv --output_dir /scratch/lingjzhu_root/lingjzhu1/lingjzhu/g2p/low_resource/byt5_small_alb/"
   ]
  },
  {
   "cell_type": "code",
   "execution_count": null,
   "id": "c109e427-1a7b-4c63-a223-c79ce376a67b",
   "metadata": {},
   "outputs": [],
   "source": [
    " !python src/train.py --checkpoint /scratch/lingjzhu_root/lingjzhu1/lingjzhu/g2p/low_resource/byt5_small_hau/checkpoint-450 --language hau --evaluate --model byt5 --test_data data/low_resource/test/hau.tsv --output_dir /scratch/lingjzhu_root/lingjzhu1/lingjzhu/g2p/low_resource/byt5_small_hau/"
   ]
  },
  {
   "cell_type": "code",
   "execution_count": null,
   "id": "f879009f-6a07-4adc-afd2-a04b0ac6c69a",
   "metadata": {},
   "outputs": [],
   "source": [
    " !python src/train.py --checkpoint /scratch/lingjzhu_root/lingjzhu1/lingjzhu/g2p/low_resource/byt5_small_heb/checkpoint-400 --language heb --evaluate --model byt5 --test_data data/low_resource/test/heb.tsv --output_dir /scratch/lingjzhu_root/lingjzhu1/lingjzhu/g2p/low_resource/byt5_small_hau/"
   ]
  },
  {
   "cell_type": "code",
   "execution_count": null,
   "id": "47035c45-3006-451e-900b-acda0572caea",
   "metadata": {},
   "outputs": [],
   "source": [
    " !python src/train.py --checkpoint /scratch/lingjzhu_root/lingjzhu1/lingjzhu/g2p/low_resource/byt5_small_dsb/checkpoint-600 --language dsb --evaluate --model byt5 --test_data data/low_resource/test/dsb.tsv --output_dir /scratch/lingjzhu_root/lingjzhu1/lingjzhu/g2p/low_resource/byt5_small_dsb/"
   ]
  },
  {
   "cell_type": "code",
   "execution_count": null,
   "id": "c8f2e2ed-1bfa-4d17-8fc0-96e36c5231d0",
   "metadata": {},
   "outputs": [],
   "source": [
    "!python src/train.py --output_dir /scratch/lingjzhu_root/lingjzhu1/lingjzhu/g2p/low_resource/byt5_small_general_alb --language alb --pretrained_model True --train --train_batch_size 32  --gradient_accumulation 1 --eval_batch_size 64 --train_data data/low_resource/train/alb.tsv --dev_data data/low_resource/dev/alb.tsv --learning_rate 1e-4 --save_steps 100 --logging_steps 50 --eval_steps 100 --epochs 50"
   ]
  },
  {
   "cell_type": "code",
   "execution_count": null,
   "id": "b3a8acca-5381-475a-ad6e-a87f75452909",
   "metadata": {},
   "outputs": [],
   "source": [
    "!python src/train.py --output_dir /scratch/lingjzhu_root/lingjzhu1/lingjzhu/g2p/low_resource/byt5_small_general_tib --language tib --pretrained_model True --train --train_batch_size 32  --gradient_accumulation 1 --eval_batch_size 64 --train_data data/low_resource/train/tib.tsv --dev_data data/low_resource/dev/tib.tsv --learning_rate 1e-4 --save_steps 100 --logging_steps 50 --eval_steps 100 --epochs 20"
   ]
  },
  {
   "cell_type": "code",
   "execution_count": null,
   "id": "18f85b2b-fcc7-4c47-87a7-4e34eeb970c5",
   "metadata": {},
   "outputs": [],
   "source": [
    "!python src/train.py --output_dir /scratch/lingjzhu_root/lingjzhu1/lingjzhu/g2p/low_resource/byt5_small_general_hau --language hau --pretrained_model True --train --train_batch_size 32  --gradient_accumulation 1 --eval_batch_size 64 --train_data data/low_resource/train/hau.tsv --dev_data data/low_resource/dev/hau.tsv --learning_rate 1e-4 --save_steps 100 --logging_steps 50 --eval_steps 100 --epochs 50"
   ]
  },
  {
   "cell_type": "code",
   "execution_count": null,
   "id": "6c78fa36-af04-410c-8cc5-cfa6f0afc1c1",
   "metadata": {},
   "outputs": [],
   "source": [
    "!python src/train.py --output_dir /scratch/lingjzhu_root/lingjzhu1/lingjzhu/g2p/low_resource/byt5_small_general_heb --language heb --pretrained_model True --train --train_batch_size 32  --gradient_accumulation 1 --eval_batch_size 64 --train_data data/low_resource/train/heb.tsv --dev_data data/low_resource/dev/heb.tsv --learning_rate 1e-4 --save_steps 100 --logging_steps 50 --eval_steps 100 --epochs 50"
   ]
  },
  {
   "cell_type": "code",
   "execution_count": null,
   "id": "d17d9145-f56f-460c-8731-66930c09e811",
   "metadata": {},
   "outputs": [],
   "source": [
    "!python src/train.py --output_dir /scratch/lingjzhu_root/lingjzhu1/lingjzhu/g2p/low_resource/byt5_small_general_dsb --language dsb --pretrained_model True --train --train_batch_size 32  --gradient_accumulation 1 --eval_batch_size 64 --train_data data/low_resource/train/dsb.tsv --dev_data data/low_resource/dev/dsb.tsv --learning_rate 1e-4 --save_steps 100 --logging_steps 50 --eval_steps 100 --epochs 50"
   ]
  },
  {
   "cell_type": "code",
   "execution_count": null,
   "id": "b4633c99-dd08-40bb-aada-4a7c6635f3e4",
   "metadata": {},
   "outputs": [],
   "source": [
    " !python src/train.py --checkpoint /scratch/lingjzhu_root/lingjzhu1/lingjzhu/g2p/low_resource/byt5_small_general_alb/checkpoint-1100 --language alb --evaluate --model byt5 --test_data data/low_resource/test/alb.tsv --output_dir /scratch/lingjzhu_root/lingjzhu1/lingjzhu/g2p/low_resource/byt5_small_alb/"
   ]
  },
  {
   "cell_type": "code",
   "execution_count": null,
   "id": "5ea2609d-7551-4543-8a9b-a44873b6d691",
   "metadata": {},
   "outputs": [],
   "source": [
    " !python src/train.py --checkpoint /scratch/lingjzhu_root/lingjzhu1/lingjzhu/g2p/low_resource/byt5_small_general_tib/checkpoint-400 --language tib --evaluate --model byt5 --test_data data/low_resource/test/tib.tsv --output_dir /scratch/lingjzhu_root/lingjzhu1/lingjzhu/g2p/low_resource/byt5_small_alb/"
   ]
  },
  {
   "cell_type": "code",
   "execution_count": null,
   "id": "d1cbdd07-2ba2-4913-aa34-66760f666ab6",
   "metadata": {},
   "outputs": [],
   "source": [
    " !python src/train.py --checkpoint /scratch/lingjzhu_root/lingjzhu1/lingjzhu/g2p/low_resource/byt5_small_general_hau/checkpoint-1100 --language hau --evaluate --model byt5 --test_data data/low_resource/test/hau.tsv --output_dir /scratch/lingjzhu_root/lingjzhu1/lingjzhu/g2p/low_resource/byt5_small_alb/"
   ]
  },
  {
   "cell_type": "code",
   "execution_count": null,
   "id": "a48d2d0f-72c9-4422-b647-7b930be81dcd",
   "metadata": {},
   "outputs": [],
   "source": [
    " !python src/train.py --checkpoint /scratch/lingjzhu_root/lingjzhu1/lingjzhu/g2p/low_resource/byt5_small_general_heb/checkpoint-700 --language heb --evaluate --model byt5 --test_data data/low_resource/test/heb.tsv --output_dir /scratch/lingjzhu_root/lingjzhu1/lingjzhu/g2p/low_resource/byt5_small_alb/"
   ]
  },
  {
   "cell_type": "code",
   "execution_count": null,
   "id": "fc6ba792-7a62-4db3-a95d-07bbe42da3c8",
   "metadata": {},
   "outputs": [],
   "source": [
    " !python src/train.py --checkpoint /scratch/lingjzhu_root/lingjzhu1/lingjzhu/g2p/low_resource/byt5_small_general_dsb/checkpoint-800 --language dsb --evaluate --model byt5 --test_data data/low_resource/test/dsb.tsv --output_dir /scratch/lingjzhu_root/lingjzhu1/lingjzhu/g2p/low_resource/byt5_small_alb/"
   ]
  },
  {
   "cell_type": "code",
   "execution_count": null,
   "id": "92f88e4d-3a43-41ed-aea5-bf625552ade8",
   "metadata": {},
   "outputs": [],
   "source": [
    "!python src/train.py --output_dir /scratch/lingjzhu_root/lingjzhu1/lingjzhu/g2p/low_resource/byt5_tiny_dsb --language dsb --pretrained_model True --train --train_batch_size 32  --gradient_accumulation 1 --eval_batch_size 64 --train_data data/low_resource/train/dsb.tsv --dev_data data/low_resource/dev/dsb.tsv --model_name /scratch/lingjzhu_root/lingjzhu1/lingjzhu/g2p/byt5_8_layers_baseline/checkpoint-135000 --learning_rate 1e-4 --save_steps 100 --logging_steps 50 --eval_steps 100 --epochs 20"
   ]
  },
  {
   "cell_type": "code",
   "execution_count": null,
   "id": "8a1b018d-d960-4392-a8b4-faaec70b3998",
   "metadata": {},
   "outputs": [],
   "source": [
    " !python src/train.py --checkpoint /scratch/lingjzhu_root/lingjzhu1/lingjzhu/g2p/low_resource/byt5_tiny_dsb --language dsb --evaluate --model byt5 --test_data data/low_resource/test/dsb.tsv --output_dir /scratch/lingjzhu_root/lingjzhu1/lingjzhu/g2p/low_resource/byt5_small_alb/"
   ]
  },
  {
   "cell_type": "code",
   "execution_count": null,
   "id": "131b754f-4465-473c-8c91-6f6d4c14d1e3",
   "metadata": {
    "scrolled": true,
    "tags": []
   },
   "outputs": [],
   "source": [
    "!python src/train.py --output_dir /scratch/lingjzhu_root/lingjzhu1/lingjzhu/g2p/low_resource/byt5_tiny_heb --language heb --pretrained_model True --train --train_batch_size 32  --gradient_accumulation 1 --eval_batch_size 64 --train_data data/low_resource/train/heb.tsv --dev_data data/low_resource/dev/heb.tsv --model_name /scratch/lingjzhu_root/lingjzhu1/lingjzhu/g2p/byt5_8_layers_baseline/checkpoint-135000 --learning_rate 1e-4 --save_steps 100 --logging_steps 50 --eval_steps 100 --epochs 50"
   ]
  },
  {
   "cell_type": "code",
   "execution_count": null,
   "id": "b9a9dde3-a0b7-433b-a811-c0d2a01a95a7",
   "metadata": {},
   "outputs": [],
   "source": [
    " !python src/train.py --checkpoint /scratch/lingjzhu_root/lingjzhu1/lingjzhu/g2p/low_resource/byt5_tiny_heb --language heb --evaluate --model byt5 --test_data data/low_resource/test/heb.tsv --output_dir /scratch/lingjzhu_root/lingjzhu1/lingjzhu/g2p/low_resource/byt5_small_alb/"
   ]
  },
  {
   "cell_type": "code",
   "execution_count": null,
   "id": "04404693-f504-4c48-aee3-8196f36074f9",
   "metadata": {
    "scrolled": true,
    "tags": []
   },
   "outputs": [],
   "source": [
    "!python src/train.py --output_dir /scratch/lingjzhu_root/lingjzhu1/lingjzhu/g2p/low_resource/byt5_tiny_hau --language hau --pretrained_model True --train --train_batch_size 32  --gradient_accumulation 1 --eval_batch_size 64 --train_data data/low_resource/train/hau.tsv --dev_data data/low_resource/dev/hau.tsv --model_name /scratch/lingjzhu_root/lingjzhu1/lingjzhu/g2p/byt5_8_layers_baseline/checkpoint-135000 --learning_rate 1e-4 --save_steps 100 --logging_steps 50 --eval_steps 100 --epochs 50"
   ]
  },
  {
   "cell_type": "code",
   "execution_count": null,
   "id": "0e56c48c-b3ea-433e-bfa4-1765ddb5dc7a",
   "metadata": {},
   "outputs": [],
   "source": [
    " !python src/train.py --checkpoint /scratch/lingjzhu_root/lingjzhu1/lingjzhu/g2p/low_resource/byt5_tiny_hau --language hau --evaluate --model byt5 --test_data data/low_resource/test/hau.tsv --output_dir /scratch/lingjzhu_root/lingjzhu1/lingjzhu/g2p/low_resource/byt5_small_alb/"
   ]
  },
  {
   "cell_type": "code",
   "execution_count": null,
   "id": "10fa0b01-abcc-4622-91d7-deb39a22d289",
   "metadata": {
    "scrolled": true,
    "tags": []
   },
   "outputs": [],
   "source": [
    "!python src/train.py --output_dir /scratch/lingjzhu_root/lingjzhu1/lingjzhu/g2p/low_resource/byt5_tiny_tib --language tib --pretrained_model True --train --train_batch_size 32  --gradient_accumulation 1 --eval_batch_size 64 --train_data data/low_resource/train/tib.tsv --dev_data data/low_resource/dev/tib.tsv --model_name /scratch/lingjzhu_root/lingjzhu1/lingjzhu/g2p/byt5_8_layers_baseline/checkpoint-135000 --learning_rate 1e-4 --save_steps 100 --logging_steps 50 --eval_steps 100 --epochs 50"
   ]
  },
  {
   "cell_type": "code",
   "execution_count": null,
   "id": "f0dc5877-1410-404b-bd7b-df814316dff2",
   "metadata": {},
   "outputs": [],
   "source": [
    " !python src/train.py --checkpoint /scratch/lingjzhu_root/lingjzhu1/lingjzhu/g2p/low_resource/byt5_tiny_tib --language tib --evaluate --model byt5 --test_data data/low_resource/test/tib.tsv --output_dir /scratch/lingjzhu_root/lingjzhu1/lingjzhu/g2p/low_resource/byt5_small_alb/"
   ]
  },
  {
   "cell_type": "code",
   "execution_count": null,
   "id": "661a35e6-6a48-4263-88c0-db447122424c",
   "metadata": {},
   "outputs": [],
   "source": [
    "!python src/train.py --output_dir /scratch/lingjzhu_root/lingjzhu1/lingjzhu/g2p/low_resource/byt5_tiny_alb --language alb --pretrained_model True --train --train_batch_size 32  --gradient_accumulation 1 --eval_batch_size 64 --train_data data/low_resource/train/alb.tsv --dev_data data/low_resource/dev/alb.tsv --model_name /scratch/lingjzhu_root/lingjzhu1/lingjzhu/g2p/byt5_8_layers_baseline/checkpoint-135000 --learning_rate 1e-4 --save_steps 100 --logging_steps 50 --eval_steps 100 --epochs 50"
   ]
  },
  {
   "cell_type": "code",
   "execution_count": null,
   "id": "5d794d77-863c-46bb-8fe3-afa8159c46d4",
   "metadata": {},
   "outputs": [],
   "source": [
    " !python src/train.py --checkpoint /scratch/lingjzhu_root/lingjzhu1/lingjzhu/g2p/low_resource/byt5_tiny_alb --language alb --evaluate --model byt5 --test_data data/low_resource/test/alb.tsv --output_dir /scratch/lingjzhu_root/lingjzhu1/lingjzhu/g2p/low_resource/byt5_small_alb/"
   ]
  },
  {
   "cell_type": "code",
   "execution_count": null,
   "id": "847ac78d-618d-4acc-9ba1-c0b9197fb7ac",
   "metadata": {
    "scrolled": true,
    "tags": []
   },
   "outputs": [],
   "source": [
    "!python src/train.py --output_dir /scratch/lingjzhu_root/lingjzhu1/lingjzhu/g2p/low_resource/byt5_tiny_random_dsb --language dsb --train --train_batch_size 32  --gradient_accumulation 1 --eval_batch_size 64 --train_data data/low_resource/train/dsb.tsv --dev_data data/low_resource/dev/dsb.tsv  --learning_rate 1e-4 --save_steps 100 --logging_steps 50 --eval_steps 100 --epochs 50 "
   ]
  },
  {
   "cell_type": "code",
   "execution_count": null,
   "id": "dd0ccd3d-3753-4940-9d80-4c7a4361641d",
   "metadata": {},
   "outputs": [],
   "source": [
    " !python src/train.py --checkpoint /scratch/lingjzhu_root/lingjzhu1/lingjzhu/g2p/low_resource/byt5_tiny_random_dsb --language dsb --evaluate --model byt5 --test_data data/low_resource/test/dsb.tsv --output_dir /scratch/lingjzhu_root/lingjzhu1/lingjzhu/g2p/low_resource/byt5_small_alb/"
   ]
  },
  {
   "cell_type": "code",
   "execution_count": null,
   "id": "5ae4ec76-954c-4e7d-a221-38acbce82dae",
   "metadata": {
    "scrolled": true,
    "tags": []
   },
   "outputs": [],
   "source": [
    "!python src/train.py --output_dir /scratch/lingjzhu_root/lingjzhu1/lingjzhu/g2p/low_resource/byt5_tiny_random_heb --language heb --train --train_batch_size 32  --gradient_accumulation 1 --eval_batch_size 64 --train_data data/low_resource/train/heb.tsv --dev_data data/low_resource/dev/heb.tsv  --learning_rate 1e-4 --save_steps 100 --logging_steps 50 --eval_steps 100 --epochs 50 "
   ]
  },
  {
   "cell_type": "code",
   "execution_count": null,
   "id": "608335f4-88c5-43cf-994c-85e4ed4488e5",
   "metadata": {},
   "outputs": [],
   "source": [
    " !python src/train.py --checkpoint /scratch/lingjzhu_root/lingjzhu1/lingjzhu/g2p/low_resource/byt5_tiny_random_heb --language heb --evaluate --model byt5 --test_data data/low_resource/test/heb.tsv --output_dir /scratch/lingjzhu_root/lingjzhu1/lingjzhu/g2p/low_resource/byt5_small_alb/"
   ]
  },
  {
   "cell_type": "code",
   "execution_count": null,
   "id": "29854bbd-b438-4736-8c75-8f683461cb67",
   "metadata": {
    "scrolled": true,
    "tags": []
   },
   "outputs": [],
   "source": [
    "!python src/train.py --output_dir /scratch/lingjzhu_root/lingjzhu1/lingjzhu/g2p/low_resource/byt5_tiny_random_hau --language hau --train --train_batch_size 32  --gradient_accumulation 1 --eval_batch_size 64 --train_data data/low_resource/train/hau.tsv --dev_data data/low_resource/dev/hau.tsv  --learning_rate 1e-4 --save_steps 100 --logging_steps 50 --eval_steps 100 --epochs 50 "
   ]
  },
  {
   "cell_type": "code",
   "execution_count": null,
   "id": "5cec1732-a9af-4d15-9817-73a15b2cd4f4",
   "metadata": {},
   "outputs": [],
   "source": [
    " !python src/train.py --checkpoint /scratch/lingjzhu_root/lingjzhu1/lingjzhu/g2p/low_resource/byt5_tiny_random_hau --language hau --evaluate --model byt5 --test_data data/low_resource/test/hau.tsv --output_dir /scratch/lingjzhu_root/lingjzhu1/lingjzhu/g2p/low_resource/byt5_small_alb/"
   ]
  },
  {
   "cell_type": "code",
   "execution_count": null,
   "id": "6d66cb46-1caf-47e9-978b-a5745115aefb",
   "metadata": {
    "scrolled": true,
    "tags": []
   },
   "outputs": [],
   "source": [
    "!python src/train.py --output_dir /scratch/lingjzhu_root/lingjzhu1/lingjzhu/g2p/low_resource/byt5_tiny_random_alb --language alb --train --train_batch_size 32  --gradient_accumulation 1 --eval_batch_size 64 --train_data data/low_resource/train/alb.tsv --dev_data data/low_resource/dev/alb.tsv  --learning_rate 1e-4 --save_steps 100 --logging_steps 50 --eval_steps 100 --epochs 50 "
   ]
  },
  {
   "cell_type": "code",
   "execution_count": null,
   "id": "e8860f7c-fd0b-4cec-a1eb-a24d9ecd1eb2",
   "metadata": {},
   "outputs": [],
   "source": [
    " !python src/train.py --checkpoint /scratch/lingjzhu_root/lingjzhu1/lingjzhu/g2p/low_resource/byt5_tiny_random_alb --language alb --evaluate --model byt5 --test_data data/low_resource/test/alb.tsv --output_dir /scratch/lingjzhu_root/lingjzhu1/lingjzhu/g2p/low_resource/byt5_small_alb/"
   ]
  },
  {
   "cell_type": "code",
   "execution_count": null,
   "id": "5ee7515b-2f3f-4890-a35d-442bde4d0bc9",
   "metadata": {
    "scrolled": true,
    "tags": []
   },
   "outputs": [],
   "source": [
    "!python src/train.py --output_dir /scratch/lingjzhu_root/lingjzhu1/lingjzhu/g2p/low_resource/byt5_tiny_random_tib --language tib --train --train_batch_size 32  --gradient_accumulation 1 --eval_batch_size 64 --train_data data/low_resource/train/tib.tsv --dev_data data/low_resource/dev/tib.tsv  --learning_rate 1e-4 --save_steps 100 --logging_steps 50 --eval_steps 100 --epochs 50 "
   ]
  },
  {
   "cell_type": "code",
   "execution_count": null,
   "id": "c7367b30-607d-4493-8e4d-2a4721e17248",
   "metadata": {},
   "outputs": [],
   "source": [
    " !python src/train.py --checkpoint /scratch/lingjzhu_root/lingjzhu1/lingjzhu/g2p/low_resource/byt5_tiny_random_tib --language tib --evaluate --model byt5 --test_data data/low_resource/test/tib.tsv --output_dir /scratch/lingjzhu_root/lingjzhu1/lingjzhu/g2p/low_resource/byt5_small_alb/"
   ]
  }
 ],
 "metadata": {
  "kernelspec": {
   "display_name": "Python 3",
   "language": "python",
   "name": "python3"
  },
  "language_info": {
   "codemirror_mode": {
    "name": "ipython",
    "version": 3
   },
   "file_extension": ".py",
   "mimetype": "text/x-python",
   "name": "python",
   "nbconvert_exporter": "python",
   "pygments_lexer": "ipython3",
   "version": "3.8.8"
  }
 },
 "nbformat": 4,
 "nbformat_minor": 5
}
