{
 "cells": [
  {
   "cell_type": "code",
   "execution_count": null,
   "id": "0a0266f4-36b3-45d6-8e83-b353b5497013",
   "metadata": {},
   "outputs": [],
   "source": [
    "!python src/train.py --output_dir /scratch/lingjzhu_root/lingjzhu1/lingjzhu/g2p/switch_8_experts"
   ]
  },
  {
   "cell_type": "code",
   "execution_count": null,
   "id": "ff655079-fae1-43fc-bfc4-54d05aaf0f19",
   "metadata": {},
   "outputs": [],
   "source": [
    "!python src/train.py --output_dir /scratch/lingjzhu_root/lingjzhu1/lingjzhu/g2p/switch_8_experts_12_layers --num_encoder_layers 8 --num_decoder_layers 4 --d_ff 1024"
   ]
  },
  {
   "cell_type": "code",
   "execution_count": null,
   "id": "a00b4c3a-7b19-4081-a8e0-d6039b44521b",
   "metadata": {},
   "outputs": [],
   "source": [
    "!python src/train.py --output_dir /scratch/lingjzhu_root/lingjzhu1/lingjzhu/g2p/switch_12_experts --n_experts 12"
   ]
  },
  {
   "cell_type": "code",
   "execution_count": null,
   "id": "b8098e72",
   "metadata": {},
   "outputs": [],
   "source": [
    "!python src/train.py --output_dir /scratch/lingjzhu_root/lingjzhu1/lingjzhu/g2p/switch_32_experts_12_layers --num_encoder_layers 8 --n_experts 32 --num_decoder_layers 4 --d_ff 1024"
   ]
  },
  {
   "cell_type": "code",
   "execution_count": null,
   "id": "a0a75f79-6f24-46cf-b33a-b1b037cf790f",
   "metadata": {},
   "outputs": [],
   "source": [
    "!python src/train.py --output_dir /scratch/lingjzhu_root/lingjzhu1/lingjzhu/g2p/switch_8_experts_16_layers --num_encoder_layers 12 --n_experts 8 --num_decoder_layers 4 --d_ff 1024"
   ]
  },
  {
   "cell_type": "code",
   "execution_count": null,
   "id": "5159e40e",
   "metadata": {},
   "outputs": [],
   "source": [
    "!python src/train.py --output_dir /scratch/lingjzhu_root/lingjzhu1/lingjzhu/g2p/byt5_small_random --num_encoder_layers 12 --num_decoder_layers 4 --d_ff 3584 --d_kv 64 --d_model 1472 --model byt5 --train --train_batch_size 128 --gradient_accumulation 8 --eval_batch_size 128   "
   ]
  },
  {
   "cell_type": "code",
   "execution_count": null,
   "id": "e7ab163e",
   "metadata": {},
   "outputs": [],
   "source": [
    "!python src/train.py --output_dir /scratch/lingjzhu_root/lingjzhu1/lingjzhu/g2p/individuals/byt5_spa --language spa --train --train_batch_size 32 --gradient_accumulation 1 --train_data data/train/spa.tsv --dev_data data/dev/spa.tsv --save_steps 1000 --logging_steps 500 --eval_steps 1000 --epochs 10 --num_encoder_layers 6 --num_decoder_layers 2"
   ]
  },
  {
   "cell_type": "code",
   "execution_count": null,
   "id": "f439c96c-e5fc-4165-8076-136a36227b02",
   "metadata": {},
   "outputs": [],
   "source": [
    "!python src/train.py --output_dir /scratch/lingjzhu_root/lingjzhu1/lingjzhu/g2p/switch_64_experts --n_experts 64"
   ]
  },
  {
   "cell_type": "code",
   "execution_count": null,
   "id": "42b84c30-9812-4caf-bdea-2d289f4e8ccf",
   "metadata": {},
   "outputs": [],
   "source": [
    "!python src/train.py --output_dir /scratch/lingjzhu_root/lingjzhu1/lingjzhu/g2p/switch_64_experts_6_layers --num_encoder_layers 4 --n_experts 64 --num_decoder_layers 2"
   ]
  },
  {
   "cell_type": "code",
   "execution_count": null,
   "id": "69487f4b-2c3b-483c-9327-6a361cce61bc",
   "metadata": {},
   "outputs": [],
   "source": [
    "!python src/train.py --output_dir /scratch/lingjzhu_root/lingjzhu1/lingjzhu/g2p/mt5_8_layers_baseline --num_encoder_layers 4 --num_decoder_layers 4  --model byt5 --model_name google/mt5-small --train --train_batch_size 64 --gradient_accumulation 4 --d_model 128 --d_ff 256 --eval_batch_size 128"
   ]
  }
 ],
 "metadata": {
  "kernelspec": {
   "display_name": "Python 3",
   "language": "python",
   "name": "python3"
  },
  "language_info": {
   "codemirror_mode": {
    "name": "ipython",
    "version": 3
   },
   "file_extension": ".py",
   "mimetype": "text/x-python",
   "name": "python",
   "nbconvert_exporter": "python",
   "pygments_lexer": "ipython3",
   "version": "3.8.8"
  }
 },
 "nbformat": 4,
 "nbformat_minor": 5
}
