{
 "cells": [
  {
   "cell_type": "code",
   "execution_count": 1,
   "id": "26f1fb48-1327-412e-aafd-003e1eae9cba",
   "metadata": {},
   "outputs": [
    {
     "data": {
      "text/plain": [
       "['kur',\n",
       " 'pap',\n",
       " 'fra',\n",
       " 'ger',\n",
       " 'cat',\n",
       " 'slo',\n",
       " 'lat-eccl',\n",
       " 'eus',\n",
       " 'slv',\n",
       " 'vie-n',\n",
       " 'gle',\n",
       " 'amh',\n",
       " 'hin',\n",
       " 'sqi',\n",
       " 'khm',\n",
       " 'zho-t',\n",
       " 'syc',\n",
       " 'ita',\n",
       " 'ltz',\n",
       " 'nan',\n",
       " 'srp',\n",
       " 'egy',\n",
       " 'bur',\n",
       " 'spa',\n",
       " 'ina']"
      ]
     },
     "execution_count": 1,
     "metadata": {},
     "output_type": "execute_result"
    }
   ],
   "source": [
    "import os \n",
    "import subprocess\n",
    "\n",
    "languages = [line.strip() for line in open('lang_list.txt','r').readlines()]\n",
    "languages"
   ]
  },
  {
   "cell_type": "code",
   "execution_count": null,
   "id": "a65783e1-3227-4d5a-8f0b-06477edb40aa",
   "metadata": {},
   "outputs": [],
   "source": [
    "for lang in languages:\n",
    "    command = ['python', \n",
    "               'src/train.py',\n",
    "               '--output_dir',\n",
    "               os.path.join('/scratch/lingjzhu_root/lingjzhu1/lingjzhu/g2p/individuals_finetuned','byt5_'+lang),\n",
    "               '--language',\n",
    "               lang, \n",
    "               '--train',\n",
    "               '--train_batch_size',\n",
    "               '32',\n",
    "               '--gradient_accumulation',\n",
    "               '1', \n",
    "               '--train_data',\n",
    "               os.path.join('data/train/',lang+'.tsv'), \n",
    "               '--dev_data',\n",
    "               os.path.join('data/dev/',lang+'.tsv'), \n",
    "               '--save_steps',\n",
    "               '1000', \n",
    "               '--logging_steps', \n",
    "               '500',\n",
    "               '--eval_steps',\n",
    "               '1000',\n",
    "               '--epochs', \n",
    "               '10',\n",
    "               '--pretrained_model',\n",
    "               'True',\n",
    "               '--model_name',\n",
    "               '/scratch/lingjzhu_root/lingjzhu1/lingjzhu/g2p/byt5_8_layers_baseline/checkpoint-135000']\n",
    "    subprocess.call(command)"
   ]
  },
  {
   "cell_type": "code",
   "execution_count": 2,
   "id": "b7355c81",
   "metadata": {},
   "outputs": [
    {
     "name": "stdout",
     "output_type": "stream",
     "text": [
      "kur\n",
      "pap\n",
      "fra\n",
      "ger\n",
      "cat\n",
      "slo\n",
      "lat-eccl\n",
      "eus\n",
      "slv\n",
      "vie-n\n",
      "gle\n",
      "amh\n",
      "hin\n",
      "sqi\n",
      "khm\n",
      "zho-t\n",
      "syc\n",
      "ita\n",
      "ltz\n",
      "nan\n",
      "srp\n",
      "egy\n",
      "bur\n",
      "spa\n",
      "ina\n"
     ]
    }
   ],
   "source": [
    "for lang in languages:\n",
    "    command = ['python', \n",
    "               'src/train.py',\n",
    "               '--checkpoint',\n",
    "               os.path.join('/scratch/lingjzhu_root/lingjzhu1/lingjzhu/g2p/individuals_finetuned','byt5_'+lang),\n",
    "               '--output_dir',\n",
    "               os.path.join('/scratch/lingjzhu_root/lingjzhu1/lingjzhu/g2p/individuals_finetuned','byt5_'+lang),\n",
    "               '--language',\n",
    "               lang, \n",
    "               '--evaluate',\n",
    "               '--test_data',\n",
    "               os.path.join('data/test/',lang+'.tsv')\n",
    "               ]\n",
    "    subprocess.call(command)\n",
    "    print(lang)"
   ]
  }
 ],
 "metadata": {
  "kernelspec": {
   "display_name": "Python 3",
   "language": "python",
   "name": "python3"
  },
  "language_info": {
   "codemirror_mode": {
    "name": "ipython",
    "version": 3
   },
   "file_extension": ".py",
   "mimetype": "text/x-python",
   "name": "python",
   "nbconvert_exporter": "python",
   "pygments_lexer": "ipython3",
   "version": "3.8.8"
  }
 },
 "nbformat": 4,
 "nbformat_minor": 5
}
