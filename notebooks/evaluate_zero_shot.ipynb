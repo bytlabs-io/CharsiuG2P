{
 "cells": [
  {
   "cell_type": "code",
   "execution_count": null,
   "id": "bde8cd10-55f2-49e7-b813-3c43a1f60670",
   "metadata": {
    "scrolled": true,
    "tags": []
   },
   "outputs": [],
   "source": [
    "!python src/evaluate.py --checkpoint /scratch/lingjzhu_root/lingjzhu1/lingjzhu/g2p/byt5_12_layers_baseline/checkpoint-135000 --model byt5 --output low_resource_results/zero_shot/byt5_12_layers_baseline --test_data data/low_resource/test --zero_shot"
   ]
  },
  {
   "cell_type": "code",
   "execution_count": null,
   "id": "fd1be1a5-b447-4fca-8486-7723bf255c7c",
   "metadata": {
    "scrolled": true,
    "tags": []
   },
   "outputs": [],
   "source": [
    "!python src/evaluate.py --checkpoint /scratch/lingjzhu_root/lingjzhu1/lingjzhu/g2p/byt5_16_layers_baseline/checkpoint-135000 --model byt5 --output low_resource_results/zero_shot/byt5_16_layers_baseline --test_data data/low_resource/test --zero_shot"
   ]
  },
  {
   "cell_type": "code",
   "execution_count": null,
   "id": "31493ba5-05f5-48c9-8c68-f541cde19ba0",
   "metadata": {},
   "outputs": [],
   "source": [
    "!python src/evaluate.py --checkpoint /scratch/lingjzhu_root/lingjzhu1/lingjzhu/g2p/byt5_8_layers_baseline/checkpoint-135000 --model byt5 --output low_resource_results/zero_shot/byt5_8_layers_baseline --test_data data/low_resource/test --zero_shot"
   ]
  },
  {
   "cell_type": "code",
   "execution_count": null,
   "id": "848c53e2-a69f-4f88-a7b9-d7d51c2e7a55",
   "metadata": {},
   "outputs": [],
   "source": [
    "!python src/evaluate.py --checkpoint /scratch/lingjzhu_root/lingjzhu1/lingjzhu/g2p/mt5_small_finetuned_from_pretrained/checkpoint-95000 --model byt5 --output low_resource_results/zero_shot/mt5_small_finetuned_from_pretrained --test_data data/low_resource/test --zero_shot"
   ]
  },
  {
   "cell_type": "code",
   "execution_count": null,
   "id": "256a338a-d020-48b3-989d-d6f5eb5d8e8d",
   "metadata": {},
   "outputs": [],
   "source": [
    "!python src/evaluate.py --checkpoint /scratch/lingjzhu_root/lingjzhu1/lingjzhu/g2p/switch_12_experts/checkpoint-95000 --model switch --output low_resource_results/zero_shot/switch_12_experts --test_data data/low_resource/test --zero_shot"
   ]
  },
  {
   "cell_type": "code",
   "execution_count": null,
   "id": "68698c6c-c65c-4579-9059-cba58a202c0f",
   "metadata": {},
   "outputs": [],
   "source": [
    "!python src/evaluate.py --checkpoint /scratch/lingjzhu_root/lingjzhu1/lingjzhu/g2p/switch_32_experts_12_layers/checkpoint-135000 --model switch --output low_resource_results/zero_shot/switch_32_experts_12_layers --test_data data/low_resource/test --zero_shot"
   ]
  },
  {
   "cell_type": "code",
   "execution_count": null,
   "id": "2fa73af9-34eb-428d-b4a7-a4bb90bc68ad",
   "metadata": {},
   "outputs": [],
   "source": [
    "!python src/evaluate.py --checkpoint /scratch/lingjzhu_root/lingjzhu1/lingjzhu/g2p/switch_64_experts/checkpoint-135000 --model switch --output low_resource_results/zero_shot/switch_64_experts --test_data data/low_resource/test --zero_shot"
   ]
  },
  {
   "cell_type": "code",
   "execution_count": null,
   "id": "76efb05c-1159-4420-8fec-5ccddf0df399",
   "metadata": {},
   "outputs": [],
   "source": [
    "!python src/evaluate.py --checkpoint /scratch/lingjzhu_root/lingjzhu1/lingjzhu/g2p/switch_64_experts_6_layers/checkpoint-135000 --model switch --output low_resource_results/zero_shot/switch_64_experts_6_layers --test_data data/low_resource/test --zero_shot"
   ]
  },
  {
   "cell_type": "code",
   "execution_count": null,
   "id": "daf9e954-30ef-49f2-b719-3364dfe1dc4a",
   "metadata": {},
   "outputs": [],
   "source": [
    "!python src/evaluate.py --checkpoint /scratch/lingjzhu_root/lingjzhu1/lingjzhu/g2p/switch_32_experts_16_layers/checkpoint-135000 --model switch --output low_resource_results/zero_shot/switch_32_experts_16_layers --test_data data/low_resource/test --zero_shot"
   ]
  },
  {
   "cell_type": "code",
   "execution_count": null,
   "id": "08902879-8120-4f3a-94f5-3e19ce0f7867",
   "metadata": {},
   "outputs": [],
   "source": [
    "!python src/evaluate.py --checkpoint /scratch/lingjzhu_root/lingjzhu1/lingjzhu/g2p/switch_8_experts_12_layers/checkpoint-135000 --model switch --output low_resource_results/zero_shot/switch_8_experts_12_layers --test_data data/low_resource/test --zero_shot"
   ]
  },
  {
   "cell_type": "code",
   "execution_count": null,
   "id": "6f28f3a0-7a06-4994-a345-ace91b318e2e",
   "metadata": {},
   "outputs": [],
   "source": [
    "!python src/evaluate.py --checkpoint /scratch/lingjzhu_root/lingjzhu1/lingjzhu/g2p/switch_8_experts/checkpoint-120000 --model switch --output low_resource_results/zero_shot/switch_8_experts --test_data data/low_resource/test --zero_shot"
   ]
  },
  {
   "cell_type": "code",
   "execution_count": null,
   "id": "7929b8c1-bca2-4216-8ad9-019cc4ea9262",
   "metadata": {
    "scrolled": true,
    "tags": []
   },
   "outputs": [],
   "source": [
    "!python src/evaluate.py --checkpoint /scratch/lingjzhu_root/lingjzhu1/lingjzhu/g2p/byt5_small_finetuned_from_pretrained/checkpoint-135000 --model byt5 --output low_resource_results/zero_shot/byt5_small_finetuned_from_pretrained --test_data data/low_resource/test --zero_shot"
   ]
  },
  {
   "cell_type": "code",
   "execution_count": null,
   "id": "58084526-cbc0-4024-bc41-1fb61a4df25b",
   "metadata": {
    "scrolled": true,
    "tags": []
   },
   "outputs": [],
   "source": [
    "!python src/evaluate.py --checkpoint /scratch/lingjzhu_root/lingjzhu1/lingjzhu/g2p/switch_8_experts_16_layers/checkpoint-135000 --model switch --output low_resource_results/zero_shot/switch_8_experts_16_layers --test_data data/low_resource/test --zero_shot"
   ]
  }
 ],
 "metadata": {
  "kernelspec": {
   "display_name": "Python 3",
   "language": "python",
   "name": "python3"
  },
  "language_info": {
   "codemirror_mode": {
    "name": "ipython",
    "version": 3
   },
   "file_extension": ".py",
   "mimetype": "text/x-python",
   "name": "python",
   "nbconvert_exporter": "python",
   "pygments_lexer": "ipython3",
   "version": "3.8.8"
  }
 },
 "nbformat": 4,
 "nbformat_minor": 5
}
