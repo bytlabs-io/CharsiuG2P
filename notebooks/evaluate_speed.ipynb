{
 "cells": [
  {
   "cell_type": "code",
   "execution_count": 1,
   "id": "9373200d-a96b-46ec-8607-598a98f9541a",
   "metadata": {},
   "outputs": [],
   "source": [
    "import argparse\n",
    "import torch\n",
    "import pandas as pd\n",
    "import os\n",
    "from datasets import load_metric\n",
    "from dataclasses import dataclass\n",
    "from tqdm import tqdm\n",
    "from typing import Union, Dict, List, Optional\n",
    "from transformers import AdamW, AutoTokenizer, T5ForConditionalGeneration, T5Config\n",
    "from transformers import (\n",
    "    DataCollator,\n",
    "    Seq2SeqTrainer, \n",
    "    Seq2SeqTrainingArguments,\n",
    "    set_seed,\n",
    ")\n",
    "\n",
    "import sys\n",
    "sys.path.append('src')\n",
    "from data_utils import load_pronuncation_dictionary, load_all_pronuncation_dictionaries\n",
    "from ByT5_MoE import SwitchT5ForConditionalGeneration"
   ]
  },
  {
   "cell_type": "code",
   "execution_count": 2,
   "id": "4ee590e4-ca24-4946-94cd-1aa8efbe24bc",
   "metadata": {},
   "outputs": [],
   "source": [
    "\n",
    "@dataclass\n",
    "class DataCollatorWithPadding:\n",
    "\n",
    "    tokenizer: AutoTokenizer\n",
    "    padding: Union[bool, str] = True\n",
    "\n",
    "    def __call__(self, features: List[Dict[str, Union[List[int], torch.Tensor]]]) -> Dict[str, torch.Tensor]:\n",
    "        # split inputs and labels since they have to be of different lenghts and need\n",
    "        # different padding methods\n",
    "        words = [feature[\"input_ids\"] for feature in features]\n",
    "        prons = [feature[\"labels\"] for feature in features]\n",
    "\n",
    "        batch = self.tokenizer(words,padding=self.padding,add_special_tokens=False,\n",
    "                          return_attention_mask=True,return_tensors='pt')\n",
    "        pron_batch = self.tokenizer(prons,padding=self.padding,add_special_tokens=True,\n",
    "                          return_attention_mask=True,return_tensors='pt')\n",
    "        \n",
    "        # replace padding with -100 to ignore loss correctly\n",
    "        batch['labels'] = pron_batch['input_ids'].masked_fill(pron_batch.attention_mask.ne(1), -100)\n",
    "\n",
    "\n",
    "        return batch\n",
    "    \n",
    "    \n",
    "def prepare_dataset(batch):\n",
    "    \n",
    "    batch['input_ids'] = batch['word']\n",
    "    batch['labels'] = batch['pron']\n",
    "    \n",
    "    return batch\n",
    "    "
   ]
  },
  {
   "cell_type": "code",
   "execution_count": 8,
   "id": "47f0fc2f-9513-419d-836c-56147825d504",
   "metadata": {},
   "outputs": [
    {
     "name": "stderr",
     "output_type": "stream",
     "text": [
      "100%|██████████| 99/99 [00:00<00:00, 260.55it/s]\n"
     ]
    },
    {
     "data": {
      "application/vnd.jupyter.widget-view+json": {
       "model_id": "5b01f96905184a809d569dc22b7cb05d",
       "version_major": 2,
       "version_minor": 0
      },
      "text/plain": [
       "  0%|          | 0/49500 [00:00<?, ?ex/s]"
      ]
     },
     "metadata": {},
     "output_type": "display_data"
    }
   ],
   "source": [
    "checkpoint = '/scratch/lingjzhu_root/lingjzhu1/lingjzhu/g2p/mt5_8_layers_baseline/checkpoint-245000'\n",
    "tokenizer = AutoTokenizer.from_pretrained(checkpoint)\n",
    "model = T5ForConditionalGeneration.from_pretrained(checkpoint)\n",
    "#model = SwitchT5ForConditionalGeneration.from_pretrained(checkpoint)\n",
    "model.eval()\n",
    "model.to('cuda')\n",
    "\n",
    "test_data = load_all_pronuncation_dictionaries('data/test', prefix=True)\n",
    "test_data = test_data.map(prepare_dataset)   "
   ]
  },
  {
   "cell_type": "code",
   "execution_count": 9,
   "id": "5f62c329-358e-4522-ad4f-336a431e57cf",
   "metadata": {},
   "outputs": [
    {
     "name": "stderr",
     "output_type": "stream",
     "text": [
      "100%|██████████| 97/97 [00:22<00:00,  4.37it/s]\n"
     ]
    }
   ],
   "source": [
    "collator = DataCollatorWithPadding(tokenizer=tokenizer,padding=True)\n",
    "loader = torch.utils.data.DataLoader(test_data,batch_size=512,collate_fn=collator)\n",
    "\n",
    "preds = []\n",
    "labels = []\n",
    "for batch in tqdm(loader):\n",
    "    input_ids = batch['input_ids'].to('cuda')\n",
    "    masks = batch['attention_mask'].to('cuda')\n",
    "    label = batch['labels'].squeeze()\n",
    "    labels.append(label)\n",
    "    with torch.no_grad():\n",
    "        pred = model.generate(input_ids,attention_mask=masks).squeeze().cpu()\n",
    "    preds.append(pred)"
   ]
  },
  {
   "cell_type": "code",
   "execution_count": 10,
   "id": "17f15c50-1585-42e3-b26c-33078ef93cb8",
   "metadata": {},
   "outputs": [
    {
     "data": {
      "text/plain": [
       "2250.0"
      ]
     },
     "execution_count": 10,
     "metadata": {},
     "output_type": "execute_result"
    }
   ],
   "source": [
    "49500/22"
   ]
  },
  {
   "cell_type": "code",
   "execution_count": 11,
   "id": "4795802f-5133-4f27-9faf-e3533fcef322",
   "metadata": {},
   "outputs": [
    {
     "data": {
      "text/plain": [
       "67177600"
      ]
     },
     "execution_count": 11,
     "metadata": {},
     "output_type": "execute_result"
    }
   ],
   "source": [
    "num_params = sum(param.numel() for param in model.parameters())\n",
    "num_params"
   ]
  },
  {
   "cell_type": "code",
   "execution_count": null,
   "id": "d1230f2e-183d-43cf-a8a0-5708d40dddb1",
   "metadata": {},
   "outputs": [],
   "source": []
  }
 ],
 "metadata": {
  "kernelspec": {
   "display_name": "Python 3",
   "language": "python",
   "name": "python3"
  },
  "language_info": {
   "codemirror_mode": {
    "name": "ipython",
    "version": 3
   },
   "file_extension": ".py",
   "mimetype": "text/x-python",
   "name": "python",
   "nbconvert_exporter": "python",
   "pygments_lexer": "ipython3",
   "version": "3.8.8"
  }
 },
 "nbformat": 4,
 "nbformat_minor": 5
}
